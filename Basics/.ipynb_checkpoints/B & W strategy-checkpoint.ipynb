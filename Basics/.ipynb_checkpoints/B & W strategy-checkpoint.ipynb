{
 "cells": [
  {
   "cell_type": "code",
   "execution_count": 1,
   "id": "d4eb8882",
   "metadata": {},
   "outputs": [
    {
     "name": "stderr",
     "output_type": "stream",
     "text": [
      "[*********************100%***********************]  1 of 1 completed\n",
      "[*********************100%***********************]  1 of 1 completed"
     ]
    },
    {
     "name": "stdout",
     "output_type": "stream",
     "text": [
      "Price                       Adj Close        RSI       ATR Buy Signal\n",
      "Ticker                           AAPL                                \n",
      "Date                                                                 \n",
      "2023-01-03 00:00:00+00:00  123.768448        NaN       NaN      False\n",
      "2023-01-04 00:00:00+00:00  125.045036        NaN       NaN      False\n",
      "2023-01-05 00:00:00+00:00  123.718971        NaN       NaN      False\n",
      "2023-01-06 00:00:00+00:00  128.271103        NaN       NaN      False\n",
      "2023-01-09 00:00:00+00:00  128.795593        NaN       NaN      False\n",
      "...                               ...        ...       ...        ...\n",
      "2023-12-22 00:00:00+00:00  192.656189  59.246173  3.099159      False\n",
      "2023-12-26 00:00:00+00:00  192.108856  49.031924  2.766325      False\n",
      "2023-12-27 00:00:00+00:00  192.208359  52.291481  2.749183      False\n",
      "2023-12-28 00:00:00+00:00  192.636261  47.920358  2.665902      False\n",
      "2023-12-29 00:00:00+00:00  191.591385  40.185214  2.666110      False\n",
      "\n",
      "[250 rows x 4 columns]\n"
     ]
    },
    {
     "name": "stderr",
     "output_type": "stream",
     "text": [
      "\n"
     ]
    }
   ],
   "source": [
    "import yfinance as yf\n",
    "import pandas as pd\n",
    "\n",
    "# Fetch S&P 500 index data\n",
    "sp500 = yf.download('^GSPC', start='2023-01-01', end='2024-01-01')\n",
    "\n",
    "# Calculate the S&P 500 ATR (Average True Range)\n",
    "sp500['High-Low'] = sp500['High'] - sp500['Low']\n",
    "sp500['High-PrevClose'] = abs(sp500['High'] - sp500['Adj Close'].shift(1))\n",
    "sp500['Low-PrevClose'] = abs(sp500['Low'] - sp500['Adj Close'].shift(1))\n",
    "sp500['TR'] = sp500[['High-Low', 'High-PrevClose', 'Low-PrevClose']].max(axis=1)\n",
    "sp500['ATR'] = sp500['TR'].rolling(window=14).mean()\n",
    "\n",
    "# Calculate the S&P 500 RSI\n",
    "delta = sp500['Adj Close'].diff(1)\n",
    "gain = delta.where(delta > 0, 0)\n",
    "loss = -delta.where(delta < 0, 0)\n",
    "avg_gain = gain.rolling(window=14).mean()\n",
    "avg_loss = loss.rolling(window=14).mean()\n",
    "rs = avg_gain / avg_loss\n",
    "sp500['RSI'] = 100 - (100 / (1 + rs))\n",
    "\n",
    "# Example for individual stock\n",
    "ticker = 'AAPL'  # Replace 'AAPL' with any S&P 500 stock symbol\n",
    "stock = yf.download(ticker, start='2023-01-01', end='2024-01-01')\n",
    "\n",
    "# Calculate ATR for the stock\n",
    "stock['High-Low'] = stock['High'] - stock['Low']\n",
    "stock['High-PrevClose'] = abs(stock['High'] - stock['Adj Close'].shift(1))\n",
    "stock['Low-PrevClose'] = abs(stock['Low'] - stock['Adj Close'].shift(1))\n",
    "stock['TR'] = stock[['High-Low', 'High-PrevClose', 'Low-PrevClose']].max(axis=1)\n",
    "stock['ATR'] = stock['TR'].rolling(window=14).mean()\n",
    "\n",
    "# Calculate RSI for the stock\n",
    "delta_stock = stock['Adj Close'].diff(1)\n",
    "gain_stock = delta_stock.where(delta_stock > 0, 0)\n",
    "loss_stock = -delta_stock.where(delta_stock < 0, 0)\n",
    "avg_gain_stock = gain_stock.rolling(window=14).mean()\n",
    "avg_loss_stock = loss_stock.rolling(window=14).mean()\n",
    "rs_stock = avg_gain_stock / avg_loss_stock\n",
    "stock['RSI'] = 100 - (100 / (1 + rs_stock))\n",
    "\n",
    "# Filter condition: Stock RSI > S&P 500 RSI and Stock ATR < S&P 500 ATR\n",
    "stock['Buy Signal'] = (stock['RSI'] > sp500['RSI']) & (stock['ATR'] < sp500['ATR'])\n",
    "print(stock[['Adj Close', 'RSI', 'ATR', 'Buy Signal']])\n"
   ]
  },
  {
   "cell_type": "code",
   "execution_count": null,
   "id": "6aaf482f",
   "metadata": {},
   "outputs": [],
   "source": []
  }
 ],
 "metadata": {
  "kernelspec": {
   "display_name": "Python 3 (ipykernel)",
   "language": "python",
   "name": "python3"
  },
  "language_info": {
   "codemirror_mode": {
    "name": "ipython",
    "version": 3
   },
   "file_extension": ".py",
   "mimetype": "text/x-python",
   "name": "python",
   "nbconvert_exporter": "python",
   "pygments_lexer": "ipython3",
   "version": "3.11.4"
  }
 },
 "nbformat": 4,
 "nbformat_minor": 5
}
