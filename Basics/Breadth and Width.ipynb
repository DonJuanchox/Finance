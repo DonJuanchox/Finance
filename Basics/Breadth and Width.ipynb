{
 "cells": [
  {
   "cell_type": "code",
   "execution_count": 1,
   "id": "77067344",
   "metadata": {},
   "outputs": [
    {
     "name": "stdout",
     "output_type": "stream",
     "text": [
      "Advancing Stocks (Weekly): 10\n",
      "Declining Stocks (Weekly): 0\n",
      "Unchanged Stocks (Weekly): 0\n",
      "Net Advancers (Weekly): 10\n",
      "Advance-Decline Ratio (Weekly): 10.00\n"
     ]
    }
   ],
   "source": [
    "import yfinance as yf\n",
    "import pandas as pd\n",
    "\n",
    "# List of stocks in the market index (e.g., S&P 500 or a custom list)\n",
    "stocks = [\n",
    "    \"AAPL\", \"MSFT\", \"GOOGL\", \"AMZN\", \"META\", \"TSLA\", \"NVDA\", \n",
    "    \"JPM\", \"V\", \"UNH\"  # Add more tickers as needed\n",
    "]\n",
    "\n",
    "# Define the date range for the week\n",
    "start_date = \"2024-11-01\"\n",
    "end_date = \"2024-11-08\"\n",
    "\n",
    "# Fetch the data\n",
    "data = yf.download(stocks, start=start_date, end=end_date, progress=False)[\"Adj Close\"]\n",
    "\n",
    "# Resample to weekly data and calculate the last weekly return\n",
    "weekly_data = data.resample('W-FRI').last()\n",
    "weekly_returns = weekly_data.pct_change()\n",
    "\n",
    "# Use the last week's data for breadth and width calculations\n",
    "latest_week_returns = weekly_returns.iloc[-1]\n",
    "\n",
    "# Count advancing, declining, and unchanged stocks for the week\n",
    "advancing_stocks = (latest_week_returns > 0).sum()\n",
    "declining_stocks = (latest_week_returns < 0).sum()\n",
    "unchanged_stocks = (latest_week_returns == 0).sum()\n",
    "\n",
    "# Calculate breadth metrics\n",
    "net_advancers = advancing_stocks - declining_stocks\n",
    "advance_decline_ratio = advancing_stocks / max(declining_stocks, 1)  # Avoid division by zero\n",
    "\n",
    "# Display results\n",
    "print(f\"Advancing Stocks (Weekly): {advancing_stocks}\")\n",
    "print(f\"Declining Stocks (Weekly): {declining_stocks}\")\n",
    "print(f\"Unchanged Stocks (Weekly): {unchanged_stocks}\")\n",
    "print(f\"Net Advancers (Weekly): {net_advancers}\")\n",
    "print(f\"Advance-Decline Ratio (Weekly): {advance_decline_ratio:.2f}\")\n"
   ]
  }
 ],
 "metadata": {
  "kernelspec": {
   "display_name": "Python 3 (ipykernel)",
   "language": "python",
   "name": "python3"
  },
  "language_info": {
   "codemirror_mode": {
    "name": "ipython",
    "version": 3
   },
   "file_extension": ".py",
   "mimetype": "text/x-python",
   "name": "python",
   "nbconvert_exporter": "python",
   "pygments_lexer": "ipython3",
   "version": "3.11.4"
  }
 },
 "nbformat": 4,
 "nbformat_minor": 5
}
