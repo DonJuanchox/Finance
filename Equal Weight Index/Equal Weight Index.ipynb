{
 "cells": [
  {
   "cell_type": "code",
   "execution_count": 1,
   "id": "7c86f07a",
   "metadata": {},
   "outputs": [],
   "source": [
    "import numpy as np\n",
    "import pandas as pd\n",
    "from pandas import DataFrame\n",
    "import requests\n",
    "import yfinance as yf\n",
    "import math\n",
    "import xlsxwriter\n",
    "import time\n",
    "from typing import Optional\n",
    "\n",
    "import warnings\n",
    "warnings.filterwarnings('ignore') # ignore warnings specially for pandas"
   ]
  },
  {
   "cell_type": "code",
   "execution_count": 2,
   "id": "49b8e417",
   "metadata": {},
   "outputs": [],
   "source": [
    "def get_sp500_tickers() -> DataFrame:\n",
    "    \"\"\"\n",
    "    Retrieves the list of S&P 500 companies from Wikipedia.\n",
    "\n",
    "    This function fetches the latest table of S&P 500 companies from Wikipedia,\n",
    "    using `pandas.read_html` to read and extract the data. It returns a DataFrame\n",
    "    containing the full details of the S&P 500 companies, including symbols, \n",
    "    company names, and other information provided in the table.\n",
    "\n",
    "    Returns:\n",
    "    -------\n",
    "    DataFrame\n",
    "        A DataFrame containing data on S&P 500 companies as obtained from Wikipedia.\n",
    "    \"\"\"\n",
    "    wiki_url = 'https://en.wikipedia.org/wiki/List_of_S%26P_500_companies'\n",
    "    table = pd.read_html(wiki_url)\n",
    "    sp500_df = table[0]\n",
    "    return sp500_df\n",
    "\n",
    "def get_market_cap(ticker: str) -> Optional[float]:\n",
    "    \"\"\"\n",
    "    Retrieves the market capitalization for a given stock ticker symbol.\n",
    "\n",
    "    This function uses the `yfinance` library to access stock data. It introduces\n",
    "    a delay of 0.5 seconds to respect potential rate limits and fetches the\n",
    "    market cap for the specified ticker symbol. If market cap information is \n",
    "    unavailable or an error occurs, it returns `None`.\n",
    "\n",
    "    Parameters:\n",
    "    ----------\n",
    "    ticker : str\n",
    "        The stock ticker symbol (e.g., \"AAPL\" for Apple Inc.).\n",
    "\n",
    "    Returns:\n",
    "    -------\n",
    "    Optional[float]\n",
    "        The market capitalization of the stock if available, otherwise `None`.\n",
    "    \"\"\"\n",
    "    time.sleep(0.5)  # Introduce a delay of 0.5 seconds to avoid rate limiting\n",
    "    try:\n",
    "        stock = yf.Ticker(ticker)\n",
    "        market_cap = stock.info.get('marketCap')  # Safely access marketCap\n",
    "        if market_cap:  # Check if market cap data is available\n",
    "            return float(market_cap)  # Ensures consistent float return type\n",
    "    except KeyError:\n",
    "        return None\n",
    "    except Exception as e:\n",
    "        print(f\"Error fetching data for {ticker}: {e}\")\n",
    "        return None"
   ]
  },
  {
   "cell_type": "code",
   "execution_count": 3,
   "id": "58d0e875",
   "metadata": {},
   "outputs": [],
   "source": [
    "# develop dataframe from reading wikipedia data\n",
    "tickers = get_sp500_tickers()\\\n",
    ".assign(Symbol=lambda df:\n",
    "        df['Symbol'].str.replace('.', '-'))\\\n",
    ".assign(marketCap= lambda df:\n",
    "        df['Symbol'].apply(lambda row: get_market_cap(row)))\\\n",
    ".assign(num_of_shares_to_buy=None)"
   ]
  },
  {
   "cell_type": "code",
   "execution_count": 4,
   "id": "8e2511ed",
   "metadata": {},
   "outputs": [],
   "source": [
    "# \"\"\"\n",
    "# Load data from the sp500 extracted from:\n",
    "#     - https://datahub.io/core/s-and-p-500-companies\n",
    "# \"\"\"\n",
    "# tickers = pd.read_csv('sp500.csv')\\\n",
    "# .assign(Symbol=lambda df:\n",
    "#         df['Symbol'].str.replace('.', '-'))\\\n",
    "# .assign(marketCap= lambda df:\n",
    "#         df['Symbol'].apply(lambda row: get_market_cap(row)))\\\n",
    "# .assign(num_of_shares_to_buy=None)"
   ]
  },
  {
   "cell_type": "code",
   "execution_count": 5,
   "id": "b90904d4",
   "metadata": {},
   "outputs": [
    {
     "name": "stderr",
     "output_type": "stream",
     "text": [
      "[*********************100%***********************]  10 of 10 completed\n"
     ]
    }
   ],
   "source": [
    "# -- add price to each Symbol\n",
    "closing_price = yf.download(tickers.Symbol.to_list(), period='1d')['Close'].T\n",
    "closing_price = closing_price.reset_index()\n",
    "closing_price = closing_price.rename(columns={closing_price.columns[-1]: 'Price',\n",
    "                                              'Ticker': 'Symbol'})\n",
    "tickers = tickers.merge(closing_price, how='inner', on='Symbol')\\\n",
    ".filter(items=['Symbol', 'marketCap', 'num_of_shares_to_buy', 'Price'])"
   ]
  },
  {
   "cell_type": "code",
   "execution_count": 6,
   "id": "b77b27e3",
   "metadata": {},
   "outputs": [
    {
     "name": "stdout",
     "output_type": "stream",
     "text": [
      "Enter the value of your portf: 10000000\n"
     ]
    }
   ],
   "source": [
    "portfolio_size = input('Enter the value of your portf: ')\n",
    "try:\n",
    "    val = float(portfolio_size)\n",
    "except ValueError:\n",
    "    print('That is not a number! \\nPlease try again:')\n",
    "    portfolio_size = input('Enter the value of your portf: ')\n",
    "    val = float(portfolio_size)"
   ]
  },
  {
   "cell_type": "code",
   "execution_count": 7,
   "id": "e81b377b",
   "metadata": {},
   "outputs": [],
   "source": [
    "position_size = val / len(tickers.index)\n",
    "\n",
    "for idx in range(0, len(tickers.index)):\n",
    "    tickers.loc[idx, 'num_of_shares_to_buy'] = math.floor(position_size / tickers.loc[idx, 'Price'])"
   ]
  },
  {
   "cell_type": "markdown",
   "id": "a3d8789f",
   "metadata": {},
   "source": [
    "# Creating XLSX file"
   ]
  },
  {
   "cell_type": "code",
   "execution_count": 8,
   "id": "0d3b64fb",
   "metadata": {},
   "outputs": [],
   "source": [
    "import xlsxwriter"
   ]
  },
  {
   "cell_type": "code",
   "execution_count": 9,
   "id": "26d0444c",
   "metadata": {},
   "outputs": [],
   "source": [
    "writer = pd.ExcelWriter('recommended_trades.xlsx', engine='xlsxwriter')"
   ]
  },
  {
   "cell_type": "code",
   "execution_count": 10,
   "id": "8028e355",
   "metadata": {},
   "outputs": [],
   "source": [
    "tickers.to_excel(writer, 'Recommended Trades', index=False)"
   ]
  },
  {
   "cell_type": "code",
   "execution_count": 11,
   "id": "75a1c0c2",
   "metadata": {},
   "outputs": [],
   "source": [
    "background_color = '#0a0a23'\n",
    "font_color = '#ffffff'\n",
    "\n",
    "string_format = writer.book.add_format(\n",
    "    {\n",
    "        'font_color': font_color,\n",
    "        'bg_color': background_color,\n",
    "        'border_color': 1\n",
    "    }\n",
    ")\n",
    "\n",
    "dollar_format = writer.book.add_format(\n",
    "    {\n",
    "        'num_format': '$0.00',\n",
    "        'font_color': font_color,\n",
    "        'bg_color': background_color,\n",
    "        'border_color': 1\n",
    "    }\n",
    ")\n",
    "\n",
    "integer_format = writer.book.add_format(\n",
    "    {\n",
    "        'num_format': '0',\n",
    "        'font_color': font_color,\n",
    "        'bg_color': background_color,\n",
    "        'border_color': 1\n",
    "    }\n",
    ")"
   ]
  },
  {
   "cell_type": "code",
   "execution_count": 12,
   "id": "2660c091",
   "metadata": {},
   "outputs": [],
   "source": [
    "# -- Similar effect\n",
    "# writer.sheets['Recommended Trades'].set_column('A:A', 18, string_format)\n",
    "# writer.sheets['Recommended Trades'].set_column('B:B', 18, integer_format)\n",
    "# writer.sheets['Recommended Trades'].set_column('C:C', 18, integer_format)\n",
    "# writer.sheets['Recommended Trades'].set_column('D:D', 18, dollar_format)\n",
    "# writer.close()\n",
    "\n",
    "column_formats = {\n",
    "    'A' : ['Symbol', string_format],\n",
    "    'B' : ['marketCap', dollar_format],\n",
    "    'C' : ['Number shares to buy', integer_format],\n",
    "    'D' : ['Price', dollar_format]\n",
    "}\n",
    "\n",
    "for column in column_formats.keys():\n",
    "    writer.sheets['Recommended Trades'].set_column(f'{column}:{column}', 18, column_formats[column][1])\n",
    "writer.close()"
   ]
  }
 ],
 "metadata": {
  "kernelspec": {
   "display_name": "Python 3 (ipykernel)",
   "language": "python",
   "name": "python3"
  },
  "language_info": {
   "codemirror_mode": {
    "name": "ipython",
    "version": 3
   },
   "file_extension": ".py",
   "mimetype": "text/x-python",
   "name": "python",
   "nbconvert_exporter": "python",
   "pygments_lexer": "ipython3",
   "version": "3.11.4"
  }
 },
 "nbformat": 4,
 "nbformat_minor": 5
}
